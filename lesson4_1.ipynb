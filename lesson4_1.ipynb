{
 "cells": [
  {
   "cell_type": "code",
   "execution_count": 4,
   "metadata": {},
   "outputs": [
    {
     "name": "stdout",
     "output_type": "stream",
     "text": [
      "學生分數是: 300\n"
     ]
    }
   ],
   "source": [
    "# 學生總分為300分\n",
    "# 有些學生可以加分5%\n",
    "# 如果加分完超過300，就以300分為準\n",
    "# 輸入超過300分，出現警告\n",
    "# 巢狀判斷\n",
    "\n",
    "scores = int(input(\"請輸入學生分數(最高300分):\"))\n",
    "if scores <=300:\n",
    "    is_add = input(\"學生是否符合加分條件? (y,n)\")\n",
    "\n",
    "    # 巢狀判斷 (增加判斷條件)\n",
    "    if is_add == \"y\":\n",
    "        scores *= 1.05\n",
    "        if scores > 300:\n",
    "            scores =300\n",
    "    print(f\"學生分數是: {scores}\")        \n",
    "else:\n",
    "    print(\"輸入錯誤\")\n"
   ]
  },
  {
   "cell_type": "code",
   "execution_count": null,
   "metadata": {},
   "outputs": [],
   "source": [
    "# 用 try...except... 預防使用者輸入錯誤\n",
    "try:\n",
    "    scores = int(input(\"請輸入學生分數(最高300分):\"))\n",
    "    if scores <=300:\n",
    "        is_add = input(\"學生是否符合加分條件? (y,n)\")\n",
    "\n",
    "        # 巢狀判斷 (增加判斷條件)\n",
    "        if is_add == \"y\":\n",
    "            scores *= 1.05\n",
    "            if scores > 300:\n",
    "                scores =300\n",
    "        print(f\"學生分數是: {scores}\")        \n",
    "    else:\n",
    "        print(\"輸入錯誤\")\n",
    "except:\n",
    "    print(\"輸入錯誤\")"
   ]
  },
  {
   "cell_type": "code",
   "execution_count": 7,
   "metadata": {},
   "outputs": [
    {
     "name": "stdout",
     "output_type": "stream",
     "text": [
      "52\n"
     ]
    }
   ],
   "source": [
    "try:\n",
    "    money = int(input(\"請輸入金額:\"))\n",
    "    print(money)\n",
    "except ValueError:  # 上面的try:區塊條件不成立，則執行except(以下)區塊;限定錯誤為\"\"ValueError\"\n",
    "    print(\"輸入格式有誤\")"
   ]
  },
  {
   "cell_type": "code",
   "execution_count": null,
   "metadata": {},
   "outputs": [],
   "source": [
    "try:\n",
    "    money = int(input(\"請輸入金額:\"))\n",
    "    print(money)\n",
    "except:  # 不限定錯誤類型\n",
    "    print(\"輸入格式有誤\")"
   ]
  },
  {
   "cell_type": "code",
   "execution_count": null,
   "metadata": {},
   "outputs": [],
   "source": []
  }
 ],
 "metadata": {
  "kernelspec": {
   "display_name": "Python 3",
   "language": "python",
   "name": "python3"
  },
  "language_info": {
   "codemirror_mode": {
    "name": "ipython",
    "version": 3
   },
   "file_extension": ".py",
   "mimetype": "text/x-python",
   "name": "python",
   "nbconvert_exporter": "python",
   "pygments_lexer": "ipython3",
   "version": "3.10.13"
  }
 },
 "nbformat": 4,
 "nbformat_minor": 2
}
