{
 "cells": [
  {
   "cell_type": "code",
   "execution_count": 1,
   "metadata": {},
   "outputs": [
    {
     "name": "stdout",
     "output_type": "stream",
     "text": [
      "3\n",
      "===========猜數字遊戲==================\n",
      "猜數字範圍1~100：Blank values are not allowed.\n",
      "猜數字範圍1~100：Blank values are not allowed.\n",
      "猜數字範圍1~100：Blank values are not allowed.\n",
      "猜數字範圍1~100：Blank values are not allowed.\n",
      "猜數字範圍1~100：3\n",
      "猜對了! 答案是:3\n",
      "您猜了:1次\n",
      "您還要繼續玩嗎?(y,n):"
     ]
    }
   ],
   "source": [
    "# random --- 生成偽隨機數  https://docs.python.org/zh-tw/3/library/random.html\n",
    "import random\n",
    "import pyinputplus as pyip\n",
    "while(True):\n",
    "    min = 1\n",
    "    max = 100\n",
    "    count = 0\n",
    "    randomNum = random.randint(min, max)\n",
    "\n",
    "    print(randomNum)\n",
    "    print(\"===========猜數字遊戲==================\")\n",
    "    while True:\n",
    "        keyin = pyip.inputInt(f\"猜數字範圍{min}~{max}：\", min =min, max=max)\n",
    "        print(keyin)\n",
    "        count += 1\n",
    "        if (keyin ==randomNum):\n",
    "            print(f\"猜對了! 答案是:{randomNum}\")\n",
    "            print(f\"您猜了:{count}次\")\n",
    "            break\n",
    "        elif keyin > randomNum:\n",
    "            print(\"再小一點!\")\n",
    "            max = keyin - 1\n",
    "        else:\n",
    "            print(\"再大一點!\") \n",
    "            min = keyin +1 \n",
    "            print(f\"您已經猜了:{count}次\")  \n",
    "    is_play= pyip.inputYesNo(\"您還要繼續玩嗎?(y,n):\")\n",
    "    if is_play ==\"no\":\n",
    "        break\n",
    "    \n",
    "print(\"Game Over!\")"
   ]
  },
  {
   "cell_type": "code",
   "execution_count": null,
   "metadata": {},
   "outputs": [],
   "source": []
  }
 ],
 "metadata": {
  "kernelspec": {
   "display_name": "Python 3",
   "language": "python",
   "name": "python3"
  },
  "language_info": {
   "codemirror_mode": {
    "name": "ipython",
    "version": 3
   },
   "file_extension": ".py",
   "mimetype": "text/x-python",
   "name": "python",
   "nbconvert_exporter": "python",
   "pygments_lexer": "ipython3",
   "version": "3.10.13"
  }
 },
 "nbformat": 4,
 "nbformat_minor": 2
}
