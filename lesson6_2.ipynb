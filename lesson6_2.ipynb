{
 "cells": [
  {
   "cell_type": "markdown",
   "metadata": {},
   "source": [
    "while 迴圈\n",
    "   while bool "
   ]
  },
  {
   "cell_type": "code",
   "execution_count": 1,
   "metadata": {},
   "outputs": [
    {
     "data": {
      "text/plain": [
       "55"
      ]
     },
     "execution_count": 1,
     "metadata": {},
     "output_type": "execute_result"
    }
   ],
   "source": [
    "# 明確知道執行的次數 (應用到 while迴圈)\n",
    "value = 0\n",
    "i = 1  # 1.建立一個被比較的變數\n",
    "while i <= 10: # 2.比較變數\n",
    "    value += i\n",
    "    i += 1   # 3. 改變比較變數的值\n",
    "value\n"
   ]
  },
  {
   "cell_type": "code",
   "execution_count": 2,
   "metadata": {},
   "outputs": [
    {
     "name": "stdout",
     "output_type": "stream",
     "text": [
      "請輸入本月份的存款:7500\n",
      "請輸入本月份的存款:15000\n",
      "請輸入本月份的存款:8000\n",
      "恭喜！已經存夠了，總存款為30500\n"
     ]
    }
   ],
   "source": [
    "# 不知道執行的次數 → 要用 while 迴圈\n",
    "#小明想要存錢買一輛機車,機車每輛30000元，他將每月存的錢輸入，當存款足夠買機車時，就顯示提示訊息告知。\n",
    "\n",
    "import pyinputplus as pyip\n",
    "\n",
    "deposit = 0\n",
    "while (deposit < 30000):\n",
    "    month_value= pyip.inputInt(\"請輸入本月份的存款:\")\n",
    "    print(month_value)\n",
    "    deposit += month_value\n",
    "\n",
    "print(f\"恭喜！已經存夠了，總存款為{deposit}\")"
   ]
  },
  {
   "cell_type": "code",
   "execution_count": 3,
   "metadata": {},
   "outputs": [
    {
     "name": "stdout",
     "output_type": "stream",
     "text": [
      "請輸入1月份的存款:15000\n",
      "請輸入2月份的存款:5987\n",
      "請輸入3月份的存款:5678\n",
      "請輸入4月份的存款:9876\n",
      "恭喜！已經存夠了，共存了4月，總存款為36541\n"
     ]
    }
   ],
   "source": [
    "# 不知道執行的次數 → 要用 while 迴圈\n",
    "import pyinputplus as pyip\n",
    "\n",
    "num = 0\n",
    "deposit = 0\n",
    "while (deposit < 30000):\n",
    "    num += 1\n",
    "    month_value= pyip.inputInt(f\"請輸入{num}月份的存款:\")\n",
    "    print(month_value)\n",
    "    deposit += month_value\n",
    "\n",
    "print(f\"恭喜！已經存夠了，共存了{num}個月，總存款為{deposit}\")"
   ]
  },
  {
   "cell_type": "code",
   "execution_count": 10,
   "metadata": {},
   "outputs": [
    {
     "name": "stdout",
     "output_type": "stream",
     "text": [
      "請輸入學生成績:100\n",
      "請輸入學生成績:100\n",
      "請輸入學生成績:100\n",
      "請輸入學生成績:-5\n",
      "學生總分為:300\n"
     ]
    }
   ],
   "source": [
    "#小美是一位教師，請你以while迴圈方式為小美設計一個輸入成績的程式，如果輸入負數表示成績輸入結束，在輸入成績結束後顯示班上總成績及平均成績。\n",
    "# while迴圈 + if 條件 (符合條件才相加)\n",
    "import pyinputplus as pyip\n",
    "\n",
    "inputValue = 0\n",
    "sum = 0\n",
    "while (inputValue >= 0):\n",
    "    inputValue = pyip.inputInt(\"請輸入學生成績:\")\n",
    "    print(inputValue)\n",
    "    if inputValue >= 0:\n",
    "        sum += inputValue\n",
    "print(f\"學生總分為:{sum}\")\n"
   ]
  },
  {
   "cell_type": "code",
   "execution_count": 11,
   "metadata": {},
   "outputs": [
    {
     "name": "stdout",
     "output_type": "stream",
     "text": [
      "請輸入學生成績:100\n",
      "請輸入學生成績:100\n",
      "請輸入學生成績:100\n",
      "請輸入學生成績:-1\n",
      "學生總分為:300\n"
     ]
    }
   ],
   "source": [
    "#小美是一位教師，請你以while迴圈方式為小美設計一個輸入成績的程式，如果輸入負數表示成績輸入結束，在輸入成績結束後顯示班上總成績及平均成績。\n",
    "# 精簡 (設定break跳出)\n",
    "sum = 0\n",
    "while (True):\n",
    "    inputValue = pyip.inputInt(\"請輸入學生成績:\")\n",
    "    print(inputValue)\n",
    "    if inputValue < 0:\n",
    "        break\n",
    "    sum += inputValue\n",
    "print(f\"學生總分為:{sum}\")"
   ]
  },
  {
   "cell_type": "code",
   "execution_count": 12,
   "metadata": {},
   "outputs": [
    {
     "name": "stdout",
     "output_type": "stream",
     "text": [
      "請輸入學生成績:100\n",
      "請輸入學生成績:100\n",
      "請輸入學生成績:100\n",
      "請輸入學生成績:-1\n",
      "學生總分為:300, 學生平均為100.0\n"
     ]
    }
   ],
   "source": [
    "#小美是一位教師，請你以while迴圈方式為小美設計一個輸入成績的程式，如果輸入負數表示成績輸入結束，在輸入成績結束後顯示班上總成績及平均成績。\n",
    "\n",
    "# 注意 num += 1 擺放的位置 (是否考量\"inputValue<0\" → break 條件)\n",
    "sum = 0\n",
    "num = 0\n",
    "while (True):\n",
    "    inputValue = pyip.inputInt(\"請輸入學生成績:\")\n",
    "    print(inputValue)\n",
    "    #num += 1  此處設定會將錯誤值(尚未考慮下方的 \"inputValue<0\" 條件)計入num (錯誤)\n",
    "    if inputValue < 0:\n",
    "        break\n",
    "    num += 1  #  num值變化，要放在排除錯誤後才計數  (正確)\n",
    "    sum += inputValue\n",
    "\n",
    "print(f\"學生總分為:{sum}, 學生平均為{sum/num}\")"
   ]
  },
  {
   "cell_type": "code",
   "execution_count": 30,
   "metadata": {},
   "outputs": [
    {
     "name": "stdout",
     "output_type": "stream",
     "text": [
      "25\n",
      "49\n"
     ]
    }
   ],
   "source": [
    "#顯示:\n",
    "#奇數輸出平方\n",
    "#偶數不做任何動作\n",
    "#'q'要離開\n",
    "\n",
    "# 未知要執行幾次 → while迴圈\n",
    "# 不預設比較值 →  while (True):再加 input 函數輸入數值\n",
    "while (True):\n",
    "    value = input(\"請輸入整數，輸入[q]離開：\")\n",
    "    if value == 'q':\n",
    "        break\n",
    "    valueInt = int(value)\n",
    "    if valueInt % 2 == 1:\n",
    "        print(valueInt**2)\n",
    "print(\"應用程式結束\")"
   ]
  },
  {
   "cell_type": "code",
   "execution_count": null,
   "metadata": {},
   "outputs": [],
   "source": []
  }
 ],
 "metadata": {
  "kernelspec": {
   "display_name": "Python 3",
   "language": "python",
   "name": "python3"
  },
  "language_info": {
   "codemirror_mode": {
    "name": "ipython",
    "version": 3
   },
   "file_extension": ".py",
   "mimetype": "text/x-python",
   "name": "python",
   "nbconvert_exporter": "python",
   "pygments_lexer": "ipython3",
   "version": "3.10.13"
  }
 },
 "nbformat": 4,
 "nbformat_minor": 2
}
