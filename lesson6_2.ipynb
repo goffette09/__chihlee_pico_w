{
 "cells": [
  {
   "cell_type": "markdown",
   "metadata": {},
   "source": [
    "while 迴圈\n",
    "   while bool "
   ]
  },
  {
   "cell_type": "code",
   "execution_count": 1,
   "metadata": {},
   "outputs": [
    {
     "data": {
      "text/plain": [
       "55"
      ]
     },
     "execution_count": 1,
     "metadata": {},
     "output_type": "execute_result"
    }
   ],
   "source": [
    "# 明確知道執行的次數 (應用到 while迴圈)\n",
    "value = 0\n",
    "i = 1  # 1.建立一個被比較的變數\n",
    "while i <= 10: # 2.比較變數\n",
    "    value += i\n",
    "    i += 1   # 3. 改變比較變數的值\n",
    "value\n"
   ]
  },
  {
   "cell_type": "code",
   "execution_count": 2,
   "metadata": {},
   "outputs": [
    {
     "name": "stdout",
     "output_type": "stream",
     "text": [
      "請輸入本月份的存款:7500\n",
      "請輸入本月份的存款:15000\n",
      "請輸入本月份的存款:8000\n",
      "恭喜！已經存夠了，總存款為30500\n"
     ]
    }
   ],
   "source": [
    "# 不知道執行的次數 → 要用 while 迴圈\n",
    "import pyinputplus as pyip\n",
    "\n",
    "deposit = 0\n",
    "while (deposit < 30000):\n",
    "    month_value= pyip.inputInt(\"請輸入本月份的存款:\")\n",
    "    print(month_value)\n",
    "    deposit += month_value\n",
    "\n",
    "print(f\"恭喜！已經存夠了，總存款為{deposit}\")"
   ]
  },
  {
   "cell_type": "code",
   "execution_count": null,
   "metadata": {},
   "outputs": [],
   "source": []
  }
 ],
 "metadata": {
  "kernelspec": {
   "display_name": "Python 3",
   "language": "python",
   "name": "python3"
  },
  "language_info": {
   "codemirror_mode": {
    "name": "ipython",
    "version": 3
   },
   "file_extension": ".py",
   "mimetype": "text/x-python",
   "name": "python",
   "nbconvert_exporter": "python",
   "pygments_lexer": "ipython3",
   "version": "3.10.13"
  }
 },
 "nbformat": 4,
 "nbformat_minor": 2
}
