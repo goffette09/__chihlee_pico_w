{
 "cells": [
  {
   "cell_type": "markdown",
   "metadata": {},
   "source": [
    "輸入顧客購買金額，若金額在\n",
    "100000元打8折.\n",
    "50000打85折.\n",
    "30000打9折.\n",
    "10000打95折."
   ]
  },
  {
   "cell_type": "code",
   "execution_count": 4,
   "metadata": {},
   "outputs": [
    {
     "name": "stdout",
     "output_type": "stream",
     "text": [
      "請輸入金額:"
     ]
    },
    {
     "ename": "NameError",
     "evalue": "name 'new_amt' is not defined",
     "output_type": "error",
     "traceback": [
      "\u001b[0;31m---------------------------------------------------------------------------\u001b[0m",
      "\u001b[0;31mNameError\u001b[0m                                 Traceback (most recent call last)",
      "\u001b[1;32m/workspaces/__chihlee_pico_w/lesson5_1_HW02.ipynb Cell 2\u001b[0m line \u001b[0;36m1\n\u001b[1;32m     <a href='vscode-notebook-cell://codespaces%2Bstunning-umbrella-wrr9j74jjq9g3rjv/workspaces/__chihlee_pico_w/lesson5_1_HW02.ipynb#W1sdnNjb2RlLXJlbW90ZQ%3D%3D?line=14'>15</a>\u001b[0m     \u001b[39mprint\u001b[39m(\u001b[39mf\u001b[39m\u001b[39m\"\u001b[39m\u001b[39m購買$\u001b[39m\u001b[39m{\u001b[39;00mamt\u001b[39m}\u001b[39;00m\u001b[39m打九折，折後金額$\u001b[39m\u001b[39m{\u001b[39;00mnew_amt\u001b[39m}\u001b[39;00m\u001b[39m\"\u001b[39m) \n\u001b[1;32m     <a href='vscode-notebook-cell://codespaces%2Bstunning-umbrella-wrr9j74jjq9g3rjv/workspaces/__chihlee_pico_w/lesson5_1_HW02.ipynb#W1sdnNjb2RlLXJlbW90ZQ%3D%3D?line=15'>16</a>\u001b[0m \u001b[39melif\u001b[39;00m amt \u001b[39m>\u001b[39m\u001b[39m=\u001b[39m\u001b[39m10000\u001b[39m:\n\u001b[0;32m---> <a href='vscode-notebook-cell://codespaces%2Bstunning-umbrella-wrr9j74jjq9g3rjv/workspaces/__chihlee_pico_w/lesson5_1_HW02.ipynb#W1sdnNjb2RlLXJlbW90ZQ%3D%3D?line=16'>17</a>\u001b[0m     new_amt \u001b[39m*\u001b[39m\u001b[39m=\u001b[39m \u001b[39m0.95\u001b[39m\n\u001b[1;32m     <a href='vscode-notebook-cell://codespaces%2Bstunning-umbrella-wrr9j74jjq9g3rjv/workspaces/__chihlee_pico_w/lesson5_1_HW02.ipynb#W1sdnNjb2RlLXJlbW90ZQ%3D%3D?line=17'>18</a>\u001b[0m     \u001b[39mprint\u001b[39m(\u001b[39mf\u001b[39m\u001b[39m\"\u001b[39m\u001b[39m購買$\u001b[39m\u001b[39m{\u001b[39;00mamt\u001b[39m}\u001b[39;00m\u001b[39m打九五折，折後金額$\u001b[39m\u001b[39m{\u001b[39;00mnew_amt\u001b[39m}\u001b[39;00m\u001b[39m\"\u001b[39m) \n\u001b[1;32m     <a href='vscode-notebook-cell://codespaces%2Bstunning-umbrella-wrr9j74jjq9g3rjv/workspaces/__chihlee_pico_w/lesson5_1_HW02.ipynb#W1sdnNjb2RlLXJlbW90ZQ%3D%3D?line=18'>19</a>\u001b[0m \u001b[39melse\u001b[39;00m:\n",
      "\u001b[0;31mNameError\u001b[0m: name 'new_amt' is not defined"
     ]
    }
   ],
   "source": [
    "import pyinputplus as pyip\n",
    "\n",
    "amt = pyip.inputInt(\"請輸入金額:\", min=0, blank=True)\n",
    "\n",
    "if amt ==\"\":\n",
    "    print(\"無折扣\")\n",
    "elif amt >= 100000:\n",
    "    new_amt = amt * 0.8\n",
    "    print(f\"購買${amt}打八折，折後金額${new_amt}\")\n",
    "elif amt >=50000:\n",
    "    new_amt = amt * 0.85\n",
    "    print(f\"購買${amt}打八五折，折後金額${new_amt}\") \n",
    "elif amt >=30000:\n",
    "    new_amt = amt * 0.9\n",
    "    print(f\"購買${amt}打九折，折後金額${new_amt}\") \n",
    "elif amt >=10000:\n",
    "    new_amt = amt * 0.95\n",
    "    print(f\"購買${amt}打九五折，折後金額${new_amt}\") \n",
    "else:\n",
    "    print(f\"購買${amt}，無折扣\")    "
   ]
  },
  {
   "cell_type": "code",
   "execution_count": null,
   "metadata": {},
   "outputs": [],
   "source": []
  }
 ],
 "metadata": {
  "kernelspec": {
   "display_name": "Python 3",
   "language": "python",
   "name": "python3"
  },
  "language_info": {
   "codemirror_mode": {
    "name": "ipython",
    "version": 3
   },
   "file_extension": ".py",
   "mimetype": "text/x-python",
   "name": "python",
   "nbconvert_exporter": "python",
   "pygments_lexer": "ipython3",
   "version": "3.10.13"
  }
 },
 "nbformat": 4,
 "nbformat_minor": 2
}
