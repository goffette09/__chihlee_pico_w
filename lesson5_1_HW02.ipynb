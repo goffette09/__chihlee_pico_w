{
 "cells": [
  {
   "cell_type": "markdown",
   "metadata": {},
   "source": [
    "輸入顧客購買金額，若金額在\n",
    "100000元打8折.\n",
    "50000打85折.\n",
    "30000打9折.\n",
    "10000打95折."
   ]
  },
  {
   "cell_type": "code",
   "execution_count": null,
   "metadata": {
    "vscode": {
     "languageId": "plaintext"
    }
   },
   "outputs": [],
   "source": []
  }
 ],
 "metadata": {
  "language_info": {
   "name": "python"
  }
 },
 "nbformat": 4,
 "nbformat_minor": 2
}
