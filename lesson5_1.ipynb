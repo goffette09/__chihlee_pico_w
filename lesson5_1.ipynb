{
 "cells": [
  {
   "cell_type": "markdown",
   "metadata": {},
   "source": [
    "請輸入學生分數(0~100):\n",
    "0~60,不及格\n",
    "60~80,及格\n",
    "80~100,優\n",
    "檢查超出範圍,格式"
   ]
  },
  {
   "cell_type": "code",
   "execution_count": 2,
   "metadata": {},
   "outputs": [
    {
     "name": "stdout",
     "output_type": "stream",
     "text": [
      "請輸入學生分數(0-100)請輸入學生分數(0-100)請輸入學生分數(0-100):78\n"
     ]
    }
   ],
   "source": [
    "import pyinputplus as pyip\n",
    "\n",
    "#pyip.inputInt(prompt =\"請輸入學生分數(0-100)\" ) #引數名稱呼叫 (混和呼叫)\n",
    "#pyip.inputInt(\"請輸入學生分數(0-100)\" ) #按引數位置呼叫\n",
    "\n",
    "scores = pyip.inputInt(\"請輸入學生分數(0-100):\", max = 100, min = 0 )\n",
    "print(scores)\n",
    "\n",
    "if scores < 60:\n",
    "    print(\"不及格\")\n",
    "else:\n",
    "    pass "
   ]
  },
  {
   "cell_type": "code",
   "execution_count": 3,
   "metadata": {},
   "outputs": [
    {
     "name": "stdout",
     "output_type": "stream",
     "text": [
      "請輸入學生分數(0-100):59\n",
      "不及格\n"
     ]
    }
   ],
   "source": [
    "#使用巢狀判斷，做兩個雙向選擇(True + False) → 處理三段式的判斷\n",
    "scores = pyip.inputInt(\"請輸入學生分數(0-100):\", max = 100, min = 0 )\n",
    "print(scores)\n",
    "\n",
    "if scores < 60:\n",
    "    print(\"不及格\")\n",
    "else:\n",
    "    if scores < 80:\n",
    "        print(\"及格\")\n",
    "    else:\n",
    "        print(\"優\")     "
   ]
  },
  {
   "cell_type": "code",
   "execution_count": null,
   "metadata": {},
   "outputs": [],
   "source": [
    "# 多項選擇 (使用elif,而非else...if... )\n",
    "scores = pyip.inputInt(\"請輸入學生分數(0-100):\", max = 100, min = 0 )\n",
    "print(scores)\n",
    "\n",
    "if scores < 60:\n",
    "    print(\"不及格\")\n",
    "elif scores < 80: \n",
    "        print(\"及格\")\n",
    "else:\n",
    "        print(\"優\")  "
   ]
  },
  {
   "cell_type": "markdown",
   "metadata": {},
   "source": [
    "多項選擇:\n",
    "1. 只有一個程式區塊會被執行 (即使分段設定多區，僅一區塊符合條件)\n",
    "2. 比較嚴格的要寫在上方(若有多區塊符合條件，會優先執行最前方的程式區塊，即跳出)\n",
    "3. \n",
    "\n",
    "# 90(含)~100分為「優」\n",
    "# 80(含)~89分為「甲」\n",
    "# 70(含)~79分為「乙」\n",
    "# 60(含)~69分為「丙」\n",
    "# 0(含)~59分為「丁」"
   ]
  },
  {
   "cell_type": "code",
   "execution_count": 8,
   "metadata": {},
   "outputs": [
    {
     "name": "stdout",
     "output_type": "stream",
     "text": [
      "請輸入學生分數(0-100):99\n",
      "優\n"
     ]
    }
   ],
   "source": [
    "scores = pyip.inputInt(\"請輸入學生分數(0-100):\", max = 100, min = 0 )\n",
    "print(scores)\n",
    "\n",
    "if scores >= 90:\n",
    "    print(\"優\")\n",
    "elif scores >= 80:\n",
    "        print(\"甲\")\n",
    "elif scores >= 70:\n",
    "        print(\"乙\")\n",
    "elif scores >= 60:\n",
    "       print(\"丙\")\n",
    "else:\n",
    "       print(\"丁\") "
   ]
  },
  {
   "cell_type": "code",
   "execution_count": 13,
   "metadata": {},
   "outputs": [
    {
     "name": "stdout",
     "output_type": "stream",
     "text": [
      "請輸入年齡:"
     ]
    },
    {
     "data": {
      "text/plain": [
       "int"
      ]
     },
     "execution_count": 13,
     "metadata": {},
     "output_type": "execute_result"
    }
   ],
   "source": [
    "#限制級：18歲或以上皆可欣賞。\n",
    "#輔導級：13(含) ~ 17歲以上皆可欣賞。\n",
    "#普遍級：12(含)歲以下皆可欣賞。\n",
    "#如果沒有輸入年齡預設為普遍級。\n",
    "\n",
    "age = pyip.inputInt(\"請輸入年齡:\", max=100, min=0, default=\"沒輸入\", blank=True)\n",
    "type(age) #輸入空格為 \"空字串\"(str)，輸入數值則為int\n"
   ]
  },
  {
   "cell_type": "code",
   "execution_count": 18,
   "metadata": {},
   "outputs": [
    {
     "name": "stdout",
     "output_type": "stream",
     "text": [
      "請輸入年齡:普遍級\n"
     ]
    }
   ],
   "source": [
    "age = pyip.inputInt(\"請輸入年齡:\", max=100, min=0, default=\"沒輸入\", blank=True)\n",
    "\n",
    "if age ==\"\":\n",
    "    print(\"普遍級\")\n",
    "elif age >= 18:\n",
    "    print(\"限制級\")\n",
    "elif age >=13:\n",
    "    print(\"輔導級\") \n",
    "else:\n",
    "    print(\"普遍級\")    \n"
   ]
  },
  {
   "cell_type": "code",
   "execution_count": 19,
   "metadata": {},
   "outputs": [
    {
     "name": "stdout",
     "output_type": "stream",
     "text": [
      "請輸入年齡:"
     ]
    },
    {
     "ename": "TypeError",
     "evalue": "'>=' not supported between instances of 'str' and 'int'",
     "output_type": "error",
     "traceback": [
      "\u001b[0;31m---------------------------------------------------------------------------\u001b[0m",
      "\u001b[0;31mTypeError\u001b[0m                                 Traceback (most recent call last)",
      "\u001b[1;32m/workspaces/__chihlee_pico_w/lesson5_1.ipynb Cell 9\u001b[0m line \u001b[0;36m3\n\u001b[1;32m      <a href='vscode-notebook-cell://codespaces%2Bstunning-umbrella-wrr9j74jjq9g3rjv/workspaces/__chihlee_pico_w/lesson5_1.ipynb#X15sdnNjb2RlLXJlbW90ZQ%3D%3D?line=0'>1</a>\u001b[0m age \u001b[39m=\u001b[39m pyip\u001b[39m.\u001b[39minputInt(\u001b[39m\"\u001b[39m\u001b[39m請輸入年齡:\u001b[39m\u001b[39m\"\u001b[39m, \u001b[39mmax\u001b[39m\u001b[39m=\u001b[39m\u001b[39m100\u001b[39m, \u001b[39mmin\u001b[39m\u001b[39m=\u001b[39m\u001b[39m0\u001b[39m, default\u001b[39m=\u001b[39m\u001b[39m\"\u001b[39m\u001b[39m沒輸入\u001b[39m\u001b[39m\"\u001b[39m, blank\u001b[39m=\u001b[39m\u001b[39mTrue\u001b[39;00m)\n\u001b[0;32m----> <a href='vscode-notebook-cell://codespaces%2Bstunning-umbrella-wrr9j74jjq9g3rjv/workspaces/__chihlee_pico_w/lesson5_1.ipynb#X15sdnNjb2RlLXJlbW90ZQ%3D%3D?line=2'>3</a>\u001b[0m \u001b[39mif\u001b[39;00m age \u001b[39m>\u001b[39;49m\u001b[39m=\u001b[39;49m\u001b[39m18\u001b[39;49m:\n\u001b[1;32m      <a href='vscode-notebook-cell://codespaces%2Bstunning-umbrella-wrr9j74jjq9g3rjv/workspaces/__chihlee_pico_w/lesson5_1.ipynb#X15sdnNjb2RlLXJlbW90ZQ%3D%3D?line=3'>4</a>\u001b[0m     \u001b[39mprint\u001b[39m(\u001b[39m\"\u001b[39m\u001b[39m可觀看普遍級、輔導級、限制級。\u001b[39m\u001b[39m\"\u001b[39m)\n\u001b[1;32m      <a href='vscode-notebook-cell://codespaces%2Bstunning-umbrella-wrr9j74jjq9g3rjv/workspaces/__chihlee_pico_w/lesson5_1.ipynb#X15sdnNjb2RlLXJlbW90ZQ%3D%3D?line=4'>5</a>\u001b[0m \u001b[39melif\u001b[39;00m age\u001b[39m>\u001b[39m\u001b[39m=\u001b[39m\u001b[39m13\u001b[39m:\n",
      "\u001b[0;31mTypeError\u001b[0m: '>=' not supported between instances of 'str' and 'int'"
     ]
    }
   ],
   "source": [
    "#沒有處理到空白值\n",
    "age = pyip.inputInt(\"請輸入年齡:\", max=100, min=0, default=\"沒輸入\", blank=True)\n",
    "\n",
    "if age >=18:\n",
    "    print(\"可觀看普遍級、輔導級、限制級。\")\n",
    "elif age>=13:\n",
    "    print(\"可觀看普遍級、輔導級。\")\n",
    "else:\n",
    "    print(\"可觀看普遍級。\")"
   ]
  },
  {
   "cell_type": "code",
   "execution_count": null,
   "metadata": {},
   "outputs": [],
   "source": []
  }
 ],
 "metadata": {
  "kernelspec": {
   "display_name": "Python 3",
   "language": "python",
   "name": "python3"
  },
  "language_info": {
   "codemirror_mode": {
    "name": "ipython",
    "version": 3
   },
   "file_extension": ".py",
   "mimetype": "text/x-python",
   "name": "python",
   "nbconvert_exporter": "python",
   "pygments_lexer": "ipython3",
   "version": "3.10.13"
  }
 },
 "nbformat": 4,
 "nbformat_minor": 2
}
