{
 "cells": [
  {
   "cell_type": "markdown",
   "metadata": {},
   "source": [
    "請輸入學生分數(0~100):\n",
    "0~60,不及格\n",
    "60~80,及格\n",
    "80~100,優\n",
    "檢查超出範圍,格式"
   ]
  },
  {
   "cell_type": "code",
   "execution_count": 2,
   "metadata": {},
   "outputs": [
    {
     "name": "stdout",
     "output_type": "stream",
     "text": [
      "請輸入學生分數(0-100)請輸入學生分數(0-100)請輸入學生分數(0-100):78\n"
     ]
    }
   ],
   "source": [
    "import pyinputplus as pyip\n",
    "\n",
    "#pyip.inputInt(prompt =\"請輸入學生分數(0-100)\" ) #引數名稱呼叫 (混和呼叫)\n",
    "#pyip.inputInt(\"請輸入學生分數(0-100)\" ) #按引數位置呼叫\n",
    "\n",
    "scores = pyip.inputInt(\"請輸入學生分數(0-100):\", max = 100, min = 0 )\n",
    "print(scores)\n",
    "\n",
    "if scores < 60:\n",
    "    print(\"不及格\")\n",
    "else:\n",
    "    pass "
   ]
  },
  {
   "cell_type": "code",
   "execution_count": 3,
   "metadata": {},
   "outputs": [
    {
     "name": "stdout",
     "output_type": "stream",
     "text": [
      "請輸入學生分數(0-100):59\n",
      "不及格\n"
     ]
    }
   ],
   "source": [
    "#使用巢狀判斷，做兩個雙向選擇(True + False) → 處理三段式的判斷\n",
    "scores = pyip.inputInt(\"請輸入學生分數(0-100):\", max = 100, min = 0 )\n",
    "print(scores)\n",
    "\n",
    "if scores < 60:\n",
    "    print(\"不及格\")\n",
    "else:\n",
    "    if scores < 80:\n",
    "        print(\"及格\")\n",
    "    else:\n",
    "        print(\"優\")     "
   ]
  },
  {
   "cell_type": "code",
   "execution_count": null,
   "metadata": {},
   "outputs": [],
   "source": [
    "# 多項選擇 (使用elif,而非else...if... )\n",
    "scores = pyip.inputInt(\"請輸入學生分數(0-100):\", max = 100, min = 0 )\n",
    "print(scores)\n",
    "\n",
    "if scores < 60:\n",
    "    print(\"不及格\")\n",
    "elif scores < 80: \n",
    "        print(\"及格\")\n",
    "else:\n",
    "        print(\"優\")  "
   ]
  },
  {
   "cell_type": "markdown",
   "metadata": {},
   "source": [
    "多項選擇\n",
    "# 90(含)~100分為「優」\n",
    "# 80(含)~89分為「甲」\n",
    "# 70(含)~79分為「乙」\n",
    "# 60(含)~69分為「丙」\n",
    "# 0(含)~59分為「丁」"
   ]
  },
  {
   "cell_type": "code",
   "execution_count": 8,
   "metadata": {},
   "outputs": [
    {
     "name": "stdout",
     "output_type": "stream",
     "text": [
      "請輸入學生分數(0-100):99\n",
      "優\n"
     ]
    }
   ],
   "source": [
    "scores = pyip.inputInt(\"請輸入學生分數(0-100):\", max = 100, min = 0 )\n",
    "print(scores)\n",
    "\n",
    "if scores >= 90:\n",
    "    print(\"優\")\n",
    "elif scores >= 80: \n",
    "        print(\"甲\")\n",
    "elif scores >= 70:\n",
    "        print(\"乙\")\n",
    "elif scores >=60:\n",
    "       print(\"丙\")\n",
    "else:\n",
    "       print(\"丁\") "
   ]
  },
  {
   "cell_type": "code",
   "execution_count": null,
   "metadata": {},
   "outputs": [],
   "source": []
  }
 ],
 "metadata": {
  "kernelspec": {
   "display_name": "Python 3",
   "language": "python",
   "name": "python3"
  },
  "language_info": {
   "codemirror_mode": {
    "name": "ipython",
    "version": 3
   },
   "file_extension": ".py",
   "mimetype": "text/x-python",
   "name": "python",
   "nbconvert_exporter": "python",
   "pygments_lexer": "ipython3",
   "version": "3.10.13"
  }
 },
 "nbformat": 4,
 "nbformat_minor": 2
}
