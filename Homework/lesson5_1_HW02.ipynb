{
 "cells": [
  {
   "cell_type": "markdown",
   "metadata": {},
   "source": [
    "輸入顧客購買金額，若金額在\n",
    "100000元打8折.\n",
    "50000打85折.\n",
    "30000打9折.\n",
    "10000打95折.\n",
    "\n",
    "執行:\n",
    "請輸入購買金額:130000\n",
    "實付金額是: 104000.0 元"
   ]
  },
  {
   "cell_type": "code",
   "execution_count": 6,
   "metadata": {},
   "outputs": [
    {
     "name": "stdout",
     "output_type": "stream",
     "text": [
      "請輸入金額:購買$50001打八五折，折後金額$42500.85\n"
     ]
    }
   ],
   "source": [
    "import pyinputplus as pyip\n",
    "\n",
    "amt = pyip.inputInt(\"請輸入金額:\", min=0, blank=True)\n",
    "\n",
    "if amt ==\"\":\n",
    "    print(\"無折扣\")\n",
    "elif amt >= 100000:\n",
    "    new_amt = amt * 0.8\n",
    "    print(f\"購買${amt}打八折，折後金額${new_amt}\")\n",
    "elif amt >=50000:\n",
    "    new_amt = amt * 0.85\n",
    "    print(f\"購買${amt}打八五折，折後金額${new_amt}\") \n",
    "elif amt >=30000:\n",
    "    new_amt = amt * 0.9\n",
    "    print(f\"購買${amt}打九折，折後金額${new_amt}\") \n",
    "elif amt >=10000:\n",
    "    new_amt = amt * 0.95\n",
    "    print(f\"購買${amt}打九五折，折後金額${new_amt}\") \n",
    "else:\n",
    "    print(f\"購買${amt}，無折扣\")    "
   ]
  },
  {
   "cell_type": "code",
   "execution_count": 19,
   "metadata": {},
   "outputs": [
    {
     "name": "stdout",
     "output_type": "stream",
     "text": [
      "請輸入購買金額:130000\n",
      "實付金額是: 104000.0 元\n"
     ]
    }
   ],
   "source": [
    "import pyinputplus as pyip\n",
    "\n",
    "amt = pyip.inputInt(\"請輸入購買金額:\", min=0)\n",
    "print(amt)\n",
    "\n",
    "if amt >= 100000:\n",
    "    amt *= 0.8\n",
    "elif amt >=50000:\n",
    "    amt *= 0.85\n",
    "elif amt >=30000:\n",
    "    amt *= 0.9\n",
    "elif amt >=10000:\n",
    "    amt *= 0.95\n",
    "\n",
    "print(f\"實付金額是: {amt} 元\")"
   ]
  },
  {
   "cell_type": "code",
   "execution_count": null,
   "metadata": {},
   "outputs": [],
   "source": []
  }
 ],
 "metadata": {
  "kernelspec": {
   "display_name": "Python 3",
   "language": "python",
   "name": "python3"
  },
  "language_info": {
   "codemirror_mode": {
    "name": "ipython",
    "version": 3
   },
   "file_extension": ".py",
   "mimetype": "text/x-python",
   "name": "python",
   "nbconvert_exporter": "python",
   "pygments_lexer": "ipython3",
   "version": "3.10.13"
  }
 },
 "nbformat": 4,
 "nbformat_minor": 2
}
