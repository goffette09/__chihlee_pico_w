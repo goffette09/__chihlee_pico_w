{
 "cells": [
  {
   "cell_type": "markdown",
   "metadata": {},
   "source": [
    "作業1:\n",
    "請輸入學生分數(0~100):\n",
    "0~60,不及格\n",
    "60~80,及格\n",
    "80~100,優\n",
    "檢查超出範圍,格式"
   ]
  },
  {
   "cell_type": "code",
   "execution_count": 4,
   "metadata": {},
   "outputs": [
    {
     "name": "stdout",
     "output_type": "stream",
     "text": [
      "輸入值為: -99.0分\n",
      "輸入錯誤。請輸入0~100數值。\n"
     ]
    }
   ],
   "source": [
    "# 寫法1 (使用try...except...else...)\n",
    "s = input('請輸入學生分數(0~100):')\n",
    "\n",
    "try:\n",
    "    score = float(s)\n",
    "except:\n",
    "    print(f\"你輸入的是:{s}。請輸入0~100數值。\")\n",
    "\n",
    "else:\n",
    "    print(f\"輸入值為: {score}分\")\n",
    "    if 0 <= score < 60:\n",
    "        print(\"→ 不及格\")\n",
    "    elif 60 <= score < 80:\n",
    "        print(\"→ 及格\")\n",
    "    elif 80 <= score <=100:\n",
    "        print(\"→ 優\")\n",
    "    else:\n",
    "        print(\"輸入錯誤。請輸入0~100數值。\")"
   ]
  },
  {
   "cell_type": "code",
   "execution_count": 3,
   "metadata": {},
   "outputs": [
    {
     "name": "stdout",
     "output_type": "stream",
     "text": [
      "請輸入學生分數(0~100):"
     ]
    },
    {
     "name": "stdout",
     "output_type": "stream",
     "text": [
      "Number must be at minimum 0.\n",
      "請輸入學生分數(0~100):'a' is not a number.\n",
      "請輸入學生分數(0~100): 100分 → 優\n"
     ]
    }
   ],
   "source": [
    "# 寫法2 (使用pyip.inputNum() )\n",
    "import pyinputplus as pyip\n",
    "\n",
    "#s = input('請輸入學生分數(0~100):')\n",
    "try:\n",
    "    score = pyip.inputNum(prompt='請輸入學生分數(0~100):', min=0, max=100)\n",
    "except:\n",
    "    print(f\"你輸入的是:{s}。請輸入0~100數值。\")\n",
    "\n",
    "if score >= 80:\n",
    "    print(f\" {score}分 → 優\")\n",
    "elif score >= 60:\n",
    "    print(f\" {score}分 → 及格\")\n",
    "else:\n",
    "    print(f\" {score}分 → 不及格\")"
   ]
  },
  {
   "cell_type": "code",
   "execution_count": null,
   "metadata": {},
   "outputs": [],
   "source": []
  }
 ],
 "metadata": {
  "kernelspec": {
   "display_name": "Python 3",
   "language": "python",
   "name": "python3"
  },
  "language_info": {
   "codemirror_mode": {
    "name": "ipython",
    "version": 3
   },
   "file_extension": ".py",
   "mimetype": "text/x-python",
   "name": "python",
   "nbconvert_exporter": "python",
   "pygments_lexer": "ipython3",
   "version": "3.10.13"
  }
 },
 "nbformat": 4,
 "nbformat_minor": 2
}
