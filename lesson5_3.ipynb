{
 "cells": [
  {
   "cell_type": "markdown",
   "metadata": {},
   "source": [
    "迴圈\n",
    "1. \"for...in... :\" 迴圈  (明確知道執行的次數)\n",
    "2. \"while...:\" 迴圈 (不知道執行的次數)"
   ]
  },
  {
   "cell_type": "code",
   "execution_count": 1,
   "metadata": {},
   "outputs": [
    {
     "name": "stdout",
     "output_type": "stream",
     "text": [
      "1...10的總和是: 55\n"
     ]
    }
   ],
   "source": [
    "# 1加到10的總和\n",
    "\n",
    "value = 0\n",
    "value += 1\n",
    "value += 2\n",
    "value += 3\n",
    "value += 4\n",
    "value += 5\n",
    "value += 6\n",
    "value += 7\n",
    "value += 8\n",
    "value += 9\n",
    "value += 10\n",
    "\n",
    "print(f\"1...10的總和是: {value}\")"
   ]
  },
  {
   "cell_type": "markdown",
   "metadata": {},
   "source": [
    "for 自訂變數 in 序列資料\n",
    "\n",
    "   * class range(stop)  → range(10) 執行0~9\n",
    "\n",
    "   * class range(start, stop, step=1)  \n",
    "     → range(1,10)  執行1~9 \n",
    "\n",
    "     → range(1,10,2)  執行1,3,5,7,9"
   ]
  },
  {
   "cell_type": "code",
   "execution_count": 2,
   "metadata": {},
   "outputs": [
    {
     "name": "stdout",
     "output_type": "stream",
     "text": [
      "1...10的總和是: 55\n"
     ]
    }
   ],
   "source": [
    "# 1加到10的總和\n",
    "\n",
    "value = 0\n",
    "for i in range(1,11):\n",
    "    value += i\n",
    "\n",
    "print(f\"1...10的總和是: {value}\")"
   ]
  },
  {
   "cell_type": "code",
   "execution_count": 3,
   "metadata": {},
   "outputs": [
    {
     "name": "stdout",
     "output_type": "stream",
     "text": [
      "1...1000的總和是: 500500\n"
     ]
    }
   ],
   "source": [
    "# 1加到1000的總和\n",
    "\n",
    "value = 0\n",
    "for i in range(1,1001):\n",
    "    value += i\n",
    "\n",
    "print(f\"1...1000的總和是: {value}\")"
   ]
  },
  {
   "cell_type": "markdown",
   "metadata": {},
   "source": []
  }
 ],
 "metadata": {
  "kernelspec": {
   "display_name": "Python 3",
   "language": "python",
   "name": "python3"
  },
  "language_info": {
   "codemirror_mode": {
    "name": "ipython",
    "version": 3
   },
   "file_extension": ".py",
   "mimetype": "text/x-python",
   "name": "python",
   "nbconvert_exporter": "python",
   "pygments_lexer": "ipython3",
   "version": "3.10.13"
  }
 },
 "nbformat": 4,
 "nbformat_minor": 2
}
