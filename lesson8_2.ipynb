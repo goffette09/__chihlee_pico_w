{
 "cells": [
  {
   "cell_type": "code",
   "execution_count": 2,
   "metadata": {},
   "outputs": [
    {
     "name": "stdout",
     "output_type": "stream",
     "text": [
      "Hello! Python!\n",
      "Hello! Python!\n",
      "Hello! Python!\n"
     ]
    }
   ],
   "source": [
    "# 建立一個function\n",
    "# 沒有參數，沒有傳出值的function\n",
    "# 沒有\n",
    "def sayHello():  #自建函數\n",
    "    print(\"Hello! Python!\")  #呼叫內建函式\n",
    "\n",
    "sayHello()  #執行函式\n",
    "sayHello() \n",
    "sayHello() "
   ]
  },
  {
   "cell_type": "code",
   "execution_count": 6,
   "metadata": {},
   "outputs": [
    {
     "name": "stdout",
     "output_type": "stream",
     "text": [
      "Hello! 徐國堂!\n",
      "Hello! Robert!\n",
      "Hello! Jenny!\n"
     ]
    }
   ],
   "source": [
    "def sayHello(name): \n",
    "    userName = name;  # username, name 屬於sayhello() 執行完則消滅\n",
    "    print(f'Hello! {userName}!')\n",
    "\n",
    "name = \"徐國堂\"  #\"徐國堂\" 屬於 主程式\n",
    "sayHello(\"徐國堂\")  # \"徐國堂\" 屬於sayhello() 執行完則消滅\n",
    "\n",
    "sayHello(name)  # 同第5,6兩行\n",
    "sayHello(\"Robert\")\n",
    "sayHello(\"Jenny\")\n",
    "\n",
    "# 會重複執行的流程，透過建立function來節省輸入"
   ]
  },
  {
   "cell_type": "code",
   "execution_count": 7,
   "metadata": {},
   "outputs": [
    {
     "name": "stdout",
     "output_type": "stream",
     "text": [
      "Hello! 少年:徐國堂!\n",
      "Hello! 中年:Robert!\n",
      "Hello! 壯年:Jenny!\n",
      "Hello! 老年:Alice!\n"
     ]
    }
   ],
   "source": [
    "def sayHello(name, age):\n",
    "    if age < 18:\n",
    "        alias = \"少年\"\n",
    "    elif age < 30:\n",
    "        alias =\"中年\"\n",
    "    elif age < 50:\n",
    "        alias = \"壯年\"\n",
    "    else:\n",
    "        alias = \"老年\"\n",
    "        \n",
    "    print(f'Hello! {alias}:{name}!')\n",
    "\n",
    "# 引數值的呼叫要依順序\n",
    "sayHello(\"徐國堂\", 13)  \n",
    "sayHello(\"Robert\",25)\n",
    "sayHello(\"Jenny\", 45)\n",
    "sayHello(\"Alice\", 65)  "
   ]
  },
  {
   "cell_type": "code",
   "execution_count": null,
   "metadata": {},
   "outputs": [],
   "source": []
  }
 ],
 "metadata": {
  "kernelspec": {
   "display_name": "Python 3",
   "language": "python",
   "name": "python3"
  },
  "language_info": {
   "codemirror_mode": {
    "name": "ipython",
    "version": 3
   },
   "file_extension": ".py",
   "mimetype": "text/x-python",
   "name": "python",
   "nbconvert_exporter": "python",
   "pygments_lexer": "ipython3",
   "version": "3.10.13"
  }
 },
 "nbformat": 4,
 "nbformat_minor": 2
}
