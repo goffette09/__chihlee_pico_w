{
 "cells": [
  {
   "cell_type": "code",
   "execution_count": 2,
   "metadata": {},
   "outputs": [
    {
     "name": "stdout",
     "output_type": "stream",
     "text": [
      "Hello! Python!\n",
      "Hello! Python!\n",
      "Hello! Python!\n"
     ]
    }
   ],
   "source": [
    "# 建立一個function\n",
    "# 沒有參數，沒有傳出值的function\n",
    "def sayHello():  #自建函數\n",
    "    print(\"Hello! Python!\")  #呼叫內建函式\n",
    "\n",
    "sayHello()  #執行函式\n",
    "sayHello() \n",
    "sayHello() "
   ]
  },
  {
   "cell_type": "code",
   "execution_count": null,
   "metadata": {},
   "outputs": [],
   "source": []
  }
 ],
 "metadata": {
  "kernelspec": {
   "display_name": "Python 3",
   "language": "python",
   "name": "python3"
  },
  "language_info": {
   "codemirror_mode": {
    "name": "ipython",
    "version": 3
   },
   "file_extension": ".py",
   "mimetype": "text/x-python",
   "name": "python",
   "nbconvert_exporter": "python",
   "pygments_lexer": "ipython3",
   "version": "3.10.13"
  }
 },
 "nbformat": 4,
 "nbformat_minor": 2
}
