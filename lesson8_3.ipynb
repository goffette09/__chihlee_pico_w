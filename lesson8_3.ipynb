{
 "cells": [
  {
   "cell_type": "code",
   "execution_count": 2,
   "metadata": {},
   "outputs": [
    {
     "name": "stdout",
     "output_type": "stream",
     "text": [
      "半徑=10, 面積為314.16\n"
     ]
    }
   ],
   "source": [
    "import math\n",
    "def circle_area(radius):\n",
    "    area = math.pi * radius **2\n",
    "    print(f\"半徑={radius}, 面積為{area:.2f}\")\n",
    "\n",
    "circle_area(10)  # 傳出none,  僅print出結果"
   ]
  },
  {
   "cell_type": "code",
   "execution_count": 3,
   "metadata": {},
   "outputs": [
    {
     "name": "stdout",
     "output_type": "stream",
     "text": [
      "請輸入半徑:"
     ]
    },
    {
     "name": "stdout",
     "output_type": "stream",
     "text": [
      "Blank values are not allowed.\n",
      "請輸入半徑:Blank values are not allowed.\n",
      "請輸入半徑:100.0\n",
      "半徑:100.00, 面積為:31415.93\n"
     ]
    }
   ],
   "source": [
    "import math\n",
    "import pyinputplus as pyip\n",
    "\n",
    "# 會傳出值的function\n",
    "def circle_area(radius):\n",
    "    area = math.pi * radius **2\n",
    "    return area\n",
    "   \n",
    "radius = pyip.inputFloat(\"請輸入半徑:\")\n",
    "print(radius)\n",
    "area = circle_area(radius)# 有傳出(因函數有return), 傳出值設為area(與函式內的area不同)\n",
    "print(f\"半徑:{radius:.2f}, 面積為:{area:.2f}\")"
   ]
  },
  {
   "cell_type": "code",
   "execution_count": null,
   "metadata": {},
   "outputs": [],
   "source": [
    "import math\n",
    "import pyinputplus as pyip\n",
    "\n",
    "# 提醒使用者，參數的輸入和輸出格式(py3.10版以後支援的說明功能)\n",
    "def circle_area(radius: int| float)->float:\n",
    "    area = math.pi * radius **2\n",
    "    return area\n",
    "   \n",
    "radius = pyip.inputFloat(\"請輸入半徑:\")\n",
    "print(radius)\n",
    "area = circle_area(10)\n",
    "print(f\"半徑:{radius:.2f}, 面積為:{area:.2f}\")"
   ]
  },
  {
   "cell_type": "code",
   "execution_count": null,
   "metadata": {},
   "outputs": [],
   "source": [
    "#https://docs.micropython.org/en/latest/library/time.html#time.localtime\n",
    "# pico thonny\n",
    "#  time.gmtime()\n",
    "# time.localtime()\n"
   ]
  }
 ],
 "metadata": {
  "kernelspec": {
   "display_name": "Python 3",
   "language": "python",
   "name": "python3"
  },
  "language_info": {
   "codemirror_mode": {
    "name": "ipython",
    "version": 3
   },
   "file_extension": ".py",
   "mimetype": "text/x-python",
   "name": "python",
   "nbconvert_exporter": "python",
   "pygments_lexer": "ipython3",
   "version": "3.11.7"
  }
 },
 "nbformat": 4,
 "nbformat_minor": 2
}
