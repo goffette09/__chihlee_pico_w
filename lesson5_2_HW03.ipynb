{
 "cells": [
  {
   "cell_type": "code",
   "execution_count": 6,
   "metadata": {},
   "outputs": [
    {
     "name": "stdout",
     "output_type": "stream",
     "text": [
      "請輸入收縮壓:131\n",
      "請輸入舒張壓:79\n",
      "單純收縮期高血壓\n"
     ]
    }
   ],
   "source": [
    "#https://github.com/roberthsu2003/__chihlee_pico__/issues/4\n",
    "\n",
    "import pyinputplus as pyip\n",
    "sbp = pyip.inputInt(\"請輸入收縮壓:\")\n",
    "print(sbp)\n",
    "dbp = pyip.inputInt(\"請輸入舒張壓:\")\n",
    "print(dbp)\n",
    "\n",
    "if sbp < 120 and dbp < 80:\n",
    "    suggestion =\"正常\"\n",
    "elif sbp >=130 and dbp < 80:\n",
    "    suggestion =\"單純收縮期高血壓\"\n",
    "elif dbp < 80:    \n",
    "    suggestion =\"血壓升高\"\n",
    "elif sbp >=140 or dbp >= 90:\n",
    "    suggestion = \"高血壓二期\"\n",
    "else:\n",
    "    suggestion =\"高血壓一期\"\n",
    "\n",
    "print(suggestion)"
   ]
  },
  {
   "cell_type": "markdown",
   "metadata": {},
   "source": []
  }
 ],
 "metadata": {
  "kernelspec": {
   "display_name": "Python 3",
   "language": "python",
   "name": "python3"
  },
  "language_info": {
   "codemirror_mode": {
    "name": "ipython",
    "version": 3
   },
   "file_extension": ".py",
   "mimetype": "text/x-python",
   "name": "python",
   "nbconvert_exporter": "python",
   "pygments_lexer": "ipython3",
   "version": "3.10.13"
  }
 },
 "nbformat": 4,
 "nbformat_minor": 2
}
