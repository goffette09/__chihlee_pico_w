{
 "cells": [
  {
   "cell_type": "code",
   "execution_count": null,
   "metadata": {},
   "outputs": [],
   "source": [
    "#https://github.com/roberthsu2003/__chihlee_pico__/issues/4\n",
    "\n",
    "import pyinputplus as pyip\n",
    "sbp = pyip.inputInt(\"請輸入收縮壓:\")\n",
    "dbp = pyip.inputInt(\"請輸入舒張壓:\")\n",
    "\n",
    "if sbp < 120 and dbp < 80:\n",
    "    print(\"正常\")\n",
    "elif sbp >=130 and dbp < 80:\n",
    "    print(\"單純收縮期高血壓\")\n",
    "elif dbp < 80:\n",
    "    print(\"血壓升高\")\n",
    "elif :\n",
    "    print(\"高血壓一期\")\n",
    "elif :\n",
    "    print(\"高血壓二期\")\n",
    "\n",
    "suggestion = \"\""
   ]
  },
  {
   "cell_type": "markdown",
   "metadata": {},
   "source": []
  }
 ],
 "metadata": {
  "kernelspec": {
   "display_name": "Python 3",
   "language": "python",
   "name": "python3"
  },
  "language_info": {
   "name": "python",
   "version": "3.10.13"
  }
 },
 "nbformat": 4,
 "nbformat_minor": 2
}
